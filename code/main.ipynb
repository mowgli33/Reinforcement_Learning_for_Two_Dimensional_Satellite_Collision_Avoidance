{
 "cells": [
  {
   "cell_type": "code",
   "execution_count": 1,
   "metadata": {},
   "outputs": [
    {
     "name": "stdout",
     "output_type": "stream",
     "text": [
      "pygame 2.6.1 (SDL 2.28.4, Python 3.12.8)\n",
      "Hello from the pygame community. https://www.pygame.org/contribute.html\n"
     ]
    }
   ],
   "source": [
    "from environment import Environment\n",
    "from RL import q_learning, discretize_state\n",
    "import plotting\n",
    "import numpy as np"
   ]
  },
  {
   "cell_type": "code",
   "execution_count": 2,
   "metadata": {},
   "outputs": [],
   "source": [
    "env = Environment(num_debris=1)"
   ]
  },
  {
   "cell_type": "code",
   "execution_count": 3,
   "metadata": {},
   "outputs": [],
   "source": [
    "\n",
    "\n",
    "# State discretization\n",
    "bins = {\n",
    "    \"satellite_position\": [np.linspace(0, 10, 20), np.linspace(-2, 2, 20)],\n",
    "    \"satellite_velocity\":  np.linspace(-3, 3, 20),\n",
    "    # \"fuel\": np.linspace(0, 5, 5),\n",
    "    \"fuel\": np.array([0]),\n",
    "    \"debris_positions\": [np.linspace(0, 10, 5), np.linspace(-2, 2, 5)],\n",
    "    \"debris_velocities\": [np.linspace(-5, 5, 10), np.linspace(-5, 5, 10)]\n",
    "}\n",
    "\n"
   ]
  },
  {
   "cell_type": "code",
   "execution_count": 4,
   "metadata": {},
   "outputs": [
    {
     "name": "stdout",
     "output_type": "stream",
     "text": [
      "Episode 700/1000."
     ]
    }
   ],
   "source": [
    "Q,stats = q_learning(env, 1000, bins=bins)"
   ]
  },
  {
   "cell_type": "code",
   "execution_count": null,
   "metadata": {},
   "outputs": [],
   "source": [
    "plotting.plot_episode_stats(stats)"
   ]
  },
  {
   "cell_type": "code",
   "execution_count": null,
   "metadata": {},
   "outputs": [],
   "source": [
    "\n",
    "\n",
    "import pygame\n",
    "\n",
    "# Example usage\n",
    "env = Environment()\n",
    "state = env.reset()\n",
    "observation = discretize_state(state, bins)\n",
    "done = False\n",
    "\n",
    "\n",
    "# Initialize Pygame\n",
    "pygame.init()\n",
    "\n",
    "# Set up display\n",
    "width, height = 800, 600\n",
    "screen = pygame.display.set_mode((width, height))\n",
    "pygame.display.set_caption(\"Satellite Collision Avoidance\")\n",
    "\n",
    "# Colors\n",
    "white = (255, 255, 255)\n",
    "black = (0, 0, 0)\n",
    "red = (255, 0, 0)\n",
    "blue = (0, 0, 255)\n",
    "\n",
    "\n",
    "# Main loop\n",
    "clock = pygame.time.Clock()\n",
    "while not done:\n",
    "    for event in pygame.event.get():\n",
    "        if event.type == pygame.QUIT:\n",
    "            done = True\n",
    "\n",
    "    # Select an action from the policy\n",
    "    if np.max(Q[observation])==0:\n",
    "        action = np.random.choice(list(range(len(Q[observation]))))\n",
    "    else :\n",
    "        action = env.action_space[np.argmax(Q[observation])]\n",
    "    print(\"action:\", action, \"discretized_state: \", observation, \"value: \", Q[observation])\n",
    "    state, reward, done, termination_status = env.step(action)\n",
    "    observation = discretize_state(state, bins)\n",
    "\n",
    "    # Draw the environment\n",
    "    env.draw(screen, width, height)\n",
    "\n",
    "    # Cap the frame rate\n",
    "    clock.tick(30)\n",
    "\n",
    "    # Print status\n",
    "    # print(f\"State: {state}, Reward: {reward}, Done: {done}, Termination Cause: {termination_status}\")\n",
    "\n",
    "pygame.quit()\n",
    "\n"
   ]
  }
 ],
 "metadata": {
  "kernelspec": {
   "display_name": ".venv",
   "language": "python",
   "name": "python3"
  },
  "language_info": {
   "codemirror_mode": {
    "name": "ipython",
    "version": 3
   },
   "file_extension": ".py",
   "mimetype": "text/x-python",
   "name": "python",
   "nbconvert_exporter": "python",
   "pygments_lexer": "ipython3",
   "version": "3.12.8"
  }
 },
 "nbformat": 4,
 "nbformat_minor": 2
}
